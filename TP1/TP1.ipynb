{
 "cells": [
  {
   "cell_type": "markdown",
   "metadata": {},
   "source": [
    "# TP1: Régression Linéaire"
   ]
  },
  {
   "cell_type": "code",
   "execution_count": 3,
   "metadata": {
    "collapsed": false
   },
   "outputs": [
    {
     "name": "stdout",
     "output_type": "stream",
     "text": [
      "Using matplotlib backend: MacOSX\n",
      "Populating the interactive namespace from numpy and matplotlib\n"
     ]
    }
   ],
   "source": [
    "%pylab\n",
    "%matplotlib inline"
   ]
  },
  {
   "cell_type": "markdown",
   "metadata": {},
   "source": [
    "## Exercice 1: Analyse d’un capteur de distance"
   ]
  },
  {
   "cell_type": "markdown",
   "metadata": {},
   "source": [
    "### Courbe d’étalonnage"
   ]
  },
  {
   "cell_type": "markdown",
   "metadata": {},
   "source": [
    "*Question 1:* Identifiez le mesurande et la grandeur de sortie."
   ]
  },
  {
   "cell_type": "markdown",
   "metadata": {},
   "source": [
    "*Question 2:* En utilisant la fonction plot, développez un script Python permettant d’afficher y[n] en fonction de x[n] et annotez convenablement votre courbe."
   ]
  },
  {
   "cell_type": "markdown",
   "metadata": {},
   "source": [
    "### Régression linéaire"
   ]
  },
  {
   "cell_type": "markdown",
   "metadata": {},
   "source": [
    "*Question 3:* Physiquement, a quoi correspond le paramètre S ? Quel est son unité ?"
   ]
  },
  {
   "cell_type": "markdown",
   "metadata": {},
   "source": [
    "*Question 4:* Modifiez votre script Python pour qu’il puisse calculer les valeurs S et b à partir de x[n] et y[n]. Votre script utilisera directement la fonction sum de Numpy pour le calcul de S et b."
   ]
  },
  {
   "cell_type": "markdown",
   "metadata": {},
   "source": [
    "*Question 5:* Modifiez votre script Python pour qu’il puisse afficher les points de mesures et le résultat de la régression linéaire."
   ]
  },
  {
   "cell_type": "markdown",
   "metadata": {},
   "source": [
    "### Écart de linéarité"
   ]
  },
  {
   "cell_type": "markdown",
   "metadata": {},
   "source": [
    "*Question 6:* Mesurez l’écart de linéarité |Δ| du capteur de distance puis l’écart de linéarité relatif |Δ|r(%)\n",
    "lorsque les valeurs minimum et maximum du mesurande sont respectivement égales à 0.00 et 2.00 pouces."
   ]
  },
  {
   "cell_type": "markdown",
   "metadata": {},
   "source": [
    "# Exercice 2: Analyse d’un capteur de température"
   ]
  },
  {
   "cell_type": "markdown",
   "metadata": {},
   "source": [
    "*Question 7:* Développez un script Python permettant d’afficher la courbe d’étalonnage puis déterminez la sensibilité du capteur (avec son unité) sur l’étendue de la plage."
   ]
  },
  {
   "cell_type": "markdown",
   "metadata": {},
   "source": [
    "*Question 8:* Modifiez votre script pour afficher la courbe d’étalonnage ainsi que sa régression linéaire. Évaluez l’écart de linéarité |Δ| puis expliquez pourquoi l’écart de linéarité est si élevé."
   ]
  },
  {
   "cell_type": "markdown",
   "metadata": {},
   "source": [
    "*Question 9:* Évaluez l’écart de linéarité |Δ| lorsque la régression linéaire est réalisée:\n",
    "\n",
    "* sur les 5 premiers échantillons (n=1,2,...,5)\n",
    "* sur les 10 premiers échantillons (n=1,2,...,10)\n",
    "* sur les 15 premiers échantillons (n=1,2,...,15)"
   ]
  },
  {
   "cell_type": "markdown",
   "metadata": {},
   "source": [
    "*Question 10:* A partir de la question précédente, identifiez la zone de linéarité du capteur. Donnez alors la valeur de la sensibilité S du capteur de température."
   ]
  }
 ],
 "metadata": {
  "anaconda-cloud": {},
  "kernelspec": {
   "display_name": "Python [conda root]",
   "language": "python",
   "name": "conda-root-py"
  },
  "language_info": {
   "codemirror_mode": {
    "name": "ipython",
    "version": 3
   },
   "file_extension": ".py",
   "mimetype": "text/x-python",
   "name": "python",
   "nbconvert_exporter": "python",
   "pygments_lexer": "ipython3",
   "version": "3.4.5"
  }
 },
 "nbformat": 4,
 "nbformat_minor": 1
}
