{
 "cells": [
  {
   "cell_type": "markdown",
   "metadata": {},
   "source": [
    "# TP3: Caractérisation statistique"
   ]
  },
  {
   "cell_type": "code",
   "execution_count": null,
   "metadata": {
    "collapsed": true
   },
   "outputs": [],
   "source": [
    "#pylab\n",
    "#matplotlib inline"
   ]
  },
  {
   "cell_type": "markdown",
   "metadata": {},
   "source": [
    "## Exercice 1: Mesure du biais et de la variance"
   ]
  },
  {
   "cell_type": "markdown",
   "metadata": {},
   "source": [
    "*Question 1:* Affichez la sortie des 3 capteurs lorsque la valeur vraie est égale à 40 degrés et N = 100 mesures."
   ]
  },
  {
   "cell_type": "markdown",
   "metadata": {},
   "source": [
    "*Question 2:* Déterminez le biais et la variance de chaque capteur pour une température vraie égale à x = 40 dégrées. Complétez alors le tableau suivant"
   ]
  },
  {
   "cell_type": "markdown",
   "metadata": {},
   "source": [
    "### Mesure du temps de réponse: Technique graphique"
   ]
  },
  {
   "cell_type": "markdown",
   "metadata": {},
   "source": [
    "*Question 3:* Tracez les droites situées à $\\pm 5\\%$ de la valeur finale puis déduisez-en le temps de réponse du capteur."
   ]
  },
  {
   "cell_type": "markdown",
   "metadata": {},
   "source": [
    "### Mesure du temps de réponse: Technique directe"
   ]
  },
  {
   "cell_type": "markdown",
   "metadata": {},
   "source": [
    "*Question 4:* Déterminez le temps de réponse en utilisant la méthodologie précédente."
   ]
  },
  {
   "cell_type": "markdown",
   "metadata": {},
   "source": [
    "## Exercice 2: Analyse des systèmes de premier ordre"
   ]
  },
  {
   "cell_type": "markdown",
   "metadata": {},
   "source": [
    "*Question 5: * Affichez la réponse indicielle du capteur. Déterminez alors la valeur finale puis le temps de réponse à $\\pm 5\\%$."
   ]
  },
  {
   "cell_type": "markdown",
   "metadata": {},
   "source": [
    "*Question 6: * En généralisant la méthodologie utilisée à la question précédente, déterminez le temps nécessaire pour obtenir $63\\%$ de la valeur finale, $86\\%$ de la valeur finale. Completez alors le tableau suivant:"
   ]
  },
  {
   "cell_type": "markdown",
   "metadata": {},
   "source": [
    "   | $tr$ | $tr/\\tau$\n",
    "--- | --- | ---\n",
    "$63\\%$ |  | \n",
    "$86\\%$ |  | \n",
    "$95\\%$ |  | "
   ]
  },
  {
   "cell_type": "markdown",
   "metadata": {},
   "source": [
    "## Exercice 3: Analyse des systèmes de second ordre"
   ]
  },
  {
   "cell_type": "markdown",
   "metadata": {},
   "source": [
    "*Question 7:* Déterminez la fonction de transfert F(p) du capteur puis affichez sa réponse indicielle."
   ]
  },
  {
   "cell_type": "markdown",
   "metadata": {},
   "source": [
    "*Question 8:* Déterminez la valeur finale ainsi que le temps de réponse du système à $\\pm 5\\%$."
   ]
  },
  {
   "cell_type": "markdown",
   "metadata": {},
   "source": [
    "*Question 9:* Pour le capteur défini précedemment, déterminez la valeur du premier dépassement relatif, $D_r (\\%)$."
   ]
  },
  {
   "cell_type": "markdown",
   "metadata": {},
   "source": [
    "   | $\\omega_n$ | $m$ | $tr(\\pm 5\\%)$ | $D_r(\\%)$\n",
    "--- | --- | --- | --- | ---\n",
    "Capteur 1 | 10 | 0.3 |   | \n",
    "Capteur 2 | 10 | 0.5 |   | \n",
    "Capteur 3 | 10 | 0.7 |   | \n",
    "Capteur 4 | 10 | 1 |   | \n",
    "Capteur 5 | 10 | 1.3 |   | \n",
    "Capteur 6 | 10 | 1.6 |   | \n"
   ]
  }
 ],
 "metadata": {
  "anaconda-cloud": {},
  "kernelspec": {
   "display_name": "Python [conda root]",
   "language": "python",
   "name": "conda-root-py"
  },
  "language_info": {
   "codemirror_mode": {
    "name": "ipython",
    "version": 3
   },
   "file_extension": ".py",
   "mimetype": "text/x-python",
   "name": "python",
   "nbconvert_exporter": "python",
   "pygments_lexer": "ipython3",
   "version": "3.4.5"
  }
 },
 "nbformat": 4,
 "nbformat_minor": 1
}
