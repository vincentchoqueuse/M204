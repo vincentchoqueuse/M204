{
 "cells": [
  {
   "cell_type": "markdown",
   "metadata": {},
   "source": [
    "# TP3: Caractérisation statistique"
   ]
  },
  {
   "cell_type": "code",
   "execution_count": 5,
   "metadata": {
    "collapsed": true
   },
   "outputs": [],
   "source": [
    "#pylab\n",
    "#matplotlib inline"
   ]
  },
  {
   "cell_type": "markdown",
   "metadata": {},
   "source": [
    "## Exercice 1: Mesure du biais et de la variance"
   ]
  },
  {
   "cell_type": "markdown",
   "metadata": {},
   "source": [
    "*Question 1:* Affichez la sortie des 3 capteurs lorsque la valeur vraie est égale à 40 degrés et N = 100 mesures."
   ]
  },
  {
   "cell_type": "markdown",
   "metadata": {},
   "source": [
    "*Question 2:* Déterminez le biais et la variance de chaque capteur pour une température vraie égale à x = 40 dégrées. Complétez alors le tableau suivant"
   ]
  },
  {
   "cell_type": "markdown",
   "metadata": {},
   "source": [
    "Capteur | Biais | Variance\n",
    "--- | --- | ---\n",
    "Capteur 1 |  | \n",
    "Capteur 2 |  | \n",
    "Capteur 3 |  | "
   ]
  },
  {
   "cell_type": "markdown",
   "metadata": {},
   "source": [
    "*Question 3:* A partir des résultats précédents, quantifiez les performances de chaque capteur en terme de justesse, fidélité et précision."
   ]
  },
  {
   "cell_type": "markdown",
   "metadata": {},
   "source": [
    "## Exercice 2: Lois aléatoires"
   ]
  },
  {
   "cell_type": "markdown",
   "metadata": {},
   "source": [
    "### Loi Normale, Uniforme et Exponentielle"
   ]
  },
  {
   "cell_type": "markdown",
   "metadata": {},
   "source": [
    "Question 4: Générez successivement N=10000 échantillons aléatoires suivant\n",
    "\n",
    "* une loi normale avec les paramètres loc=10 et scale=10,\n",
    "* une loi uniforme avec les paramètres loc=-7.32 et scale=34.64,\n",
    "* une loi du exponentielle avec les paramètres loc=0 et scale=10,\n",
    "\n",
    "puis déterminez à chaque fois la moyenne et la variance des échantillons."
   ]
  },
  {
   "cell_type": "markdown",
   "metadata": {},
   "source": [
    "*Question 5: * Affichez les histogrammes des échantillons pour chaque distribution."
   ]
  },
  {
   "cell_type": "markdown",
   "metadata": {},
   "source": [
    "*Question 6: * Générez N=1000 échantillons d’une variable aléatoire y[n] dont la distribution suit la somme de $L=10$ distributions uniformes (loc=0, scale=1) c-a-d\n",
    "\n",
    "$y[n]=\\sum_{l=1}^{10} x_{l}[n]$\n",
    "\n",
    "où les variables aléatoires $x_l[n]$ suivent toutes une loi uniforme. Affichez ensuite l’histogramme de $y[n]$."
   ]
  },
  {
   "cell_type": "markdown",
   "metadata": {},
   "source": [
    "### Intervalle de confiance"
   ]
  },
  {
   "cell_type": "markdown",
   "metadata": {},
   "source": [
    "*Question 7: * Générez N=10000 échantillons suivant une loi Normale de paramètres loc=0 et scale=1. Complétez alors le tableau suivant"
   ]
  },
  {
   "cell_type": "markdown",
   "metadata": {},
   "source": [
    "Intervalle| Nb |Nb($\\%$)\n",
    "--- | --- | ---\n",
    "[-1 1] |  | \n",
    "[-2 2] |  | \n",
    "[-3 3] |  | "
   ]
  }
 ],
 "metadata": {
  "anaconda-cloud": {},
  "kernelspec": {
   "display_name": "Python [conda root]",
   "language": "python",
   "name": "conda-root-py"
  },
  "language_info": {
   "codemirror_mode": {
    "name": "ipython",
    "version": 3
   },
   "file_extension": ".py",
   "mimetype": "text/x-python",
   "name": "python",
   "nbconvert_exporter": "python",
   "pygments_lexer": "ipython3",
   "version": "3.4.5"
  }
 },
 "nbformat": 4,
 "nbformat_minor": 1
}
